{
  "cells": [
    {
      "cell_type": "markdown",
      "metadata": {
        "id": "view-in-github",
        "colab_type": "text"
      },
      "source": [
        "<a href=\"https://colab.research.google.com/github/Saska91/dmproject/blob/main/Pert_Code.ipynb\" target=\"_parent\"><img src=\"https://colab.research.google.com/assets/colab-badge.svg\" alt=\"Open In Colab\"/></a>"
      ]
    },
    {
      "cell_type": "markdown",
      "source": [
        "***Pert Analysis Code***\n",
        "\n"
      ],
      "metadata": {
        "id": "G0D6Pjj6TBTg"
      }
    },
    {
      "cell_type": "code",
      "source": [
        "import numpy as np\n",
        "from scipy.stats import beta\n",
        "import time\n",
        "import matplotlib.pyplot as plt\n",
        "\n",
        "class pert():\n",
        "    @classmethod\n",
        "    def rand(cls,low, peak, high, g=4, size=None):\n",
        "        a = 1 + g*(high-peak)/(high-low)\n",
        "        b = 1 + g*(peak-low)/(high-low)\n",
        "        return low + (high-low) * np.random.beta(b,a,size)\n",
        "\n",
        "    @classmethod\n",
        "    def pdf(cls, x, low,peak,high, g=4):\n",
        "        a = 1 + g * (high - peak) / (high - low)\n",
        "        b = 1 + g * (peak - low) / (high - low)\n",
        "        return beta.pdf((x-low)/(high-low), b, a)\n",
        "    @classmethod\n",
        "    def cdf(cls, x, low,peak,high, g=4):\n",
        "        a = 1 + g * (high - peak) / (high - low)\n",
        "        b = 1 + g * (peak - low) / (high - low)\n",
        "        return beta.cdf((x-low)/(high-low), b,a)\n",
        "\n",
        "low = 0.15\n",
        "peak = 0.35\n",
        "high = 0.70\n",
        "\n",
        "fig, ax = plt.subplots()\n",
        "fig.set_size_inches((10,5))\n",
        "for g in [3]:\n",
        "    x = np.arange(low, high, (high-low)/100)\n",
        "    y = pert.pdf(x=x, low=low, peak=peak, high=high, g=g)\n",
        "    ax.plot(x,y,label=f'lambda = {g}')\n",
        "    leg = ax.legend();\n",
        "    plt.show()\n"
      ],
      "metadata": {
        "id": "DoItubffLZte",
        "colab": {
          "base_uri": "https://localhost:8080/",
          "height": 320
        },
        "outputId": "a4d20b8e-87b4-4eb5-f4f9-255367b30e8e"
      },
      "execution_count": 9,
      "outputs": [
        {
          "output_type": "display_data",
          "data": {
            "text/plain": [
              "<Figure size 720x360 with 1 Axes>"
            ],
            "image/png": "[encoded data removed]"
          },
          "metadata": {
            "needs_background": "light"
          }
        }
      ]
    },
    {
      "cell_type": "markdown",
      "source": [
        ""
      ],
      "metadata": {
        "id": "tChubXTxUAOj"
      }
    },
    {
      "cell_type": "code",
      "source": [
        "pert.rand(low, peak, high, g=3)"
      ],
      "metadata": {
        "colab": {
          "base_uri": "https://localhost:8080/"
        },
        "id": "MhMtJbKJSI8H",
        "outputId": "ee75a9e3-33b7-4118-d312-6c36226d1fb6"
      },
      "execution_count": 10,
      "outputs": [
        {
          "output_type": "execute_result",
          "data": {
            "text/plain": [
              "0.20614982436230433"
            ]
          },
          "metadata": {},
          "execution_count": 10
        }
      ]
    }
  ],
  "metadata": {
    "colab": {
      "collapsed_sections": [],
      "name": "Pert Code",
      "toc_visible": true,
      "provenance": [],
      "include_colab_link": true
    },
    "kernelspec": {
      "display_name": "Python 3",
      "name": "python3"
    }
  },
  "nbformat": 4,
  "nbformat_minor": 0
}